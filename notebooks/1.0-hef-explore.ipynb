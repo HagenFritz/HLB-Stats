{
 "cells": [
  {
   "cell_type": "code",
   "execution_count": 1,
   "id": "6f9faa58",
   "metadata": {},
   "outputs": [],
   "source": [
    "import warnings\n",
    "warnings.filterwarnings('ignore')\n",
    "\n",
    "%load_ext autoreload\n",
    "%autoreload 2"
   ]
  },
  {
   "cell_type": "code",
   "execution_count": 2,
   "id": "d8ce85d3",
   "metadata": {},
   "outputs": [],
   "source": [
    "import os\n",
    "import sys\n",
    "sys.path.append('../')\n",
    "\n",
    "import pandas as pd\n",
    "pd.set_option('display.max_columns', 200)\n",
    "\n",
    "import src.generate_report as report_gen"
   ]
  },
  {
   "cell_type": "code",
   "execution_count": 3,
   "id": "b46f0996",
   "metadata": {},
   "outputs": [],
   "source": [
    "report = report_gen.Report(\"04272022\")\n",
    "report.run()"
   ]
  },
  {
   "cell_type": "code",
   "execution_count": 40,
   "id": "7e0f7bcd",
   "metadata": {},
   "outputs": [
    {
     "data": {
      "text/plain": [
       "{'Hagen/Tommy': ('100.0%', 9),\n",
       " 'Brandon/Hagen': ('88.9%', 9),\n",
       " 'Devin/Hagen': ('86.7%', 15),\n",
       " 'Carlos/Hagen': ('83.3%', 12),\n",
       " 'Bruno/Hagen': ('82.4%', 17)}"
      ]
     },
     "execution_count": 40,
     "metadata": {},
     "output_type": "execute_result"
    }
   ],
   "source": [
    "report.get_winningest_team(min_games=5)"
   ]
  },
  {
   "cell_type": "code",
   "execution_count": 9,
   "id": "c18e0377",
   "metadata": {},
   "outputs": [
    {
     "data": {
      "text/plain": [
       "'34'"
      ]
     },
     "execution_count": 9,
     "metadata": {},
     "output_type": "execute_result"
    }
   ],
   "source": [
    "d[\"Brandon\"][\"N\"]"
   ]
  },
  {
   "cell_type": "code",
   "execution_count": 5,
   "id": "5afceadc",
   "metadata": {},
   "outputs": [
    {
     "name": "stdout",
     "output_type": "stream",
     "text": [
      "Brandon\n",
      "{'Serves': '8.8', 'Aces': '0.9', 'Missed Serves': '0.7', 'Received': '8.4', 'Swings': '8.5', 'Swing Kills': '3.4', 'Blocks': '0.6', 'Block Kills': '0.1', 'Bump Kills': '0.5', 'Hitting Errors': '1.0', 'Errors': '2.3', 'Serving Percentage': '93.5%', 'Kills': '4.0', 'Hitting Efficiency': '39.6%', 'Serve Receive Rating': '1.9', 'Effectiveness': '2.5', 'N': '34', 'Win Rate': '41.2%', 'Ace:Error': '1.3'}\n",
      "Bruno\n",
      "{'Serves': '9.5', 'Aces': '0.7', 'Missed Serves': '0.8', 'Received': '7.4', 'Swings': '9.5', 'Swing Kills': '3.2', 'Blocks': '0.6', 'Block Kills': '0.1', 'Bump Kills': '0.1', 'Hitting Errors': '1.1', 'Errors': '2.3', 'Serving Percentage': '92.6%', 'Kills': '3.4', 'Hitting Efficiency': '33.9%', 'Serve Receive Rating': '2.2', 'Effectiveness': '1.8', 'N': '31', 'Win Rate': '61.3%', 'Ace:Error': '0.9'}\n",
      "Carlos\n",
      "{'Serves': '8.3', 'Aces': '0.8', 'Missed Serves': '1.1', 'Received': '8.1', 'Swings': '10.3', 'Swing Kills': '3.9', 'Blocks': '1.0', 'Block Kills': '0.6', 'Bump Kills': '0.3', 'Hitting Errors': '1.2', 'Errors': '3.5', 'Serving Percentage': '87.7%', 'Kills': '4.7', 'Hitting Efficiency': '38.6%', 'Serve Receive Rating': '1.8', 'Effectiveness': '1.9', 'N': '26', 'Win Rate': '53.8%', 'Ace:Error': '0.9'}\n",
      "Cody\n",
      "{'Serves': '8.6', 'Aces': '0.5', 'Missed Serves': '1.3', 'Received': '8.4', 'Swings': '12.7', 'Swing Kills': '5.6', 'Blocks': '1.8', 'Block Kills': '0.9', 'Bump Kills': '0.6', 'Hitting Errors': '2.2', 'Errors': '4.1', 'Serving Percentage': '84.6%', 'Kills': '7.1', 'Hitting Efficiency': '45.1%', 'Serve Receive Rating': '1.9', 'Effectiveness': '3.4', 'N': '35', 'Win Rate': '51.4%', 'Ace:Error': '1.0'}\n",
      "Devin\n",
      "{'Serves': '9.7', 'Aces': '1.1', 'Missed Serves': '1.2', 'Received': '8.8', 'Swings': '10.6', 'Swing Kills': '3.7', 'Blocks': '0.7', 'Block Kills': '0.1', 'Bump Kills': '0.5', 'Hitting Errors': '0.9', 'Errors': '2.3', 'Serving Percentage': '87.4%', 'Kills': '4.3', 'Hitting Efficiency': '37.4%', 'Serve Receive Rating': '1.8', 'Effectiveness': '3.0', 'N': '39', 'Win Rate': '56.4%', 'Ace:Error': '1.3'}\n",
      "German\n",
      "{'Serves': '8.9', 'Aces': '1.2', 'Missed Serves': '1.4', 'Received': '9.8', 'Swings': '12.1', 'Swing Kills': '4.5', 'Blocks': '0.7', 'Block Kills': '0.2', 'Bump Kills': '0.1', 'Hitting Errors': '2.2', 'Errors': '4.1', 'Serving Percentage': '84.6%', 'Kills': '4.8', 'Hitting Efficiency': '38.2%', 'Serve Receive Rating': '2.0', 'Effectiveness': '1.7', 'N': '46', 'Win Rate': '26.1%', 'Ace:Error': '1.2'}\n",
      "Hagen\n",
      "{'Serves': '10.1', 'Aces': '1.2', 'Missed Serves': '0.9', 'Received': '5.9', 'Swings': '11.4', 'Swing Kills': '5.5', 'Blocks': '1.1', 'Block Kills': '0.4', 'Bump Kills': '0.2', 'Hitting Errors': '0.8', 'Errors': '2.2', 'Serving Percentage': '91.3%', 'Kills': '6.0', 'Hitting Efficiency': '47.6%', 'Serve Receive Rating': '2.1', 'Effectiveness': '5.0', 'N': '87', 'Win Rate': '78.2%', 'Ace:Error': '1.3'}\n",
      "Jake\n",
      "{'Serves': '8.4', 'Aces': '1.2', 'Missed Serves': '1.6', 'Received': '7.9', 'Swings': '10.7', 'Swing Kills': '4.6', 'Blocks': '1.1', 'Block Kills': '0.5', 'Bump Kills': '0.3', 'Hitting Errors': '1.5', 'Errors': '3.5', 'Serving Percentage': '80.8%', 'Kills': '5.4', 'Hitting Efficiency': '41.6%', 'Serve Receive Rating': '2.1', 'Effectiveness': '3.1', 'N': '19', 'Win Rate': '26.3%', 'Ace:Error': '1.7'}\n",
      "Jason\n",
      "{'Serves': '8.6', 'Aces': '1.1', 'Missed Serves': '2.6', 'Received': '8.6', 'Swings': '11.7', 'Swing Kills': '4.9', 'Blocks': '1.3', 'Block Kills': '0.6', 'Bump Kills': '0.0', 'Hitting Errors': '1.6', 'Errors': '4.9', 'Serving Percentage': '66.7%', 'Kills': '5.4', 'Hitting Efficiency': '42.0%', 'Serve Receive Rating': '2.1', 'Effectiveness': '1.7', 'N': '7', 'Win Rate': '28.6%', 'Ace:Error': '0.6'}\n",
      "Josh\n",
      "{'Serves': '8.4', 'Aces': '1.5', 'Missed Serves': '2.6', 'Received': '10.6', 'Swings': '10.2', 'Swing Kills': '5.2', 'Blocks': '1.4', 'Block Kills': '1.2', 'Bump Kills': '0.4', 'Hitting Errors': '1.6', 'Errors': '4.0', 'Serving Percentage': '74.2%', 'Kills': '6.4', 'Hitting Efficiency': '50.9%', 'Serve Receive Rating': '1.9', 'Effectiveness': '4.0', 'N': '12', 'Win Rate': '33.3%', 'Ace:Error': '0.9'}\n",
      "Nate\n",
      "{'Serves': '9.2', 'Aces': '1.5', 'Missed Serves': '0.8', 'Received': '9.8', 'Swings': '11.6', 'Swing Kills': '4.8', 'Blocks': '1.3', 'Block Kills': '0.7', 'Bump Kills': '0.5', 'Hitting Errors': '1.4', 'Errors': '2.6', 'Serving Percentage': '94.4%', 'Kills': '5.6', 'Hitting Efficiency': '42.9%', 'Serve Receive Rating': '1.8', 'Effectiveness': '4.4', 'N': '18', 'Win Rate': '66.7%', 'Ace:Error': '1.0'}\n",
      "Robbie\n",
      "{'Serves': '7.9', 'Aces': '1.1', 'Missed Serves': '0.7', 'Received': '4.3', 'Swings': '11.7', 'Swing Kills': '4.9', 'Blocks': '1.9', 'Block Kills': '1.2', 'Bump Kills': '0.8', 'Hitting Errors': '2.3', 'Errors': '3.0', 'Serving Percentage': '93.1%', 'Kills': '6.5', 'Hitting Efficiency': '42.3%', 'Serve Receive Rating': '1.8', 'Effectiveness': '4.4', 'N': '12', 'Win Rate': '50.0%', 'Ace:Error': '1.1'}\n",
      "Tommy\n",
      "{'Serves': '9.0', 'Aces': '0.9', 'Missed Serves': '1.0', 'Received': '8.1', 'Swings': '12.3', 'Swing Kills': '4.6', 'Blocks': '1.1', 'Block Kills': '0.7', 'Bump Kills': '0.2', 'Hitting Errors': '1.5', 'Errors': '2.7', 'Serving Percentage': '90.9%', 'Kills': '5.4', 'Hitting Efficiency': '37.4%', 'Serve Receive Rating': '1.8', 'Effectiveness': '3.4', 'N': '38', 'Win Rate': '47.4%', 'Ace:Error': '1.1'}\n",
      "True\n",
      "{'Serves': '9.8', 'Aces': '1.2', 'Missed Serves': '0.6', 'Received': '7.8', 'Swings': '10.9', 'Swing Kills': '4.5', 'Blocks': '1.2', 'Block Kills': '0.6', 'Bump Kills': '0.1', 'Hitting Errors': '1.8', 'Errors': '3.3', 'Serving Percentage': '94.1%', 'Kills': '5.1', 'Hitting Efficiency': '40.7%', 'Serve Receive Rating': '2.0', 'Effectiveness': '3.1', 'N': '24', 'Win Rate': '50.0%', 'Ace:Error': '1.3'}\n",
      "Tyler\n",
      "{'Serves': '9.0', 'Aces': '1.1', 'Missed Serves': '1.1', 'Received': '7.6', 'Swings': '11.1', 'Swing Kills': '3.8', 'Blocks': '0.9', 'Block Kills': '0.2', 'Bump Kills': '0.4', 'Hitting Errors': '3.4', 'Errors': '3.7', 'Serving Percentage': '88.7%', 'Kills': '4.3', 'Hitting Efficiency': '34.4%', 'Serve Receive Rating': '2.1', 'Effectiveness': '1.6', 'N': '30', 'Win Rate': '30.0%', 'Ace:Error': '1.0'}\n"
     ]
    }
   ],
   "source": [
    "d = report.get_simplified_results_per_player()\n",
    "for p, stats in d.items():\n",
    "    print(p)\n",
    "    print(stats)"
   ]
  },
  {
   "cell_type": "code",
   "execution_count": null,
   "id": "c8cbf317",
   "metadata": {},
   "outputs": [],
   "source": []
  }
 ],
 "metadata": {
  "kernelspec": {
   "display_name": "Python 3",
   "language": "python",
   "name": "python3"
  },
  "language_info": {
   "codemirror_mode": {
    "name": "ipython",
    "version": 3
   },
   "file_extension": ".py",
   "mimetype": "text/x-python",
   "name": "python",
   "nbconvert_exporter": "python",
   "pygments_lexer": "ipython3",
   "version": "3.8.8"
  }
 },
 "nbformat": 4,
 "nbformat_minor": 5
}
