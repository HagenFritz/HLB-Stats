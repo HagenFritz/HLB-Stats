{
 "cells": [
  {
   "cell_type": "markdown",
   "metadata": {},
   "source": [
    "# Detecting Jumps from Fitbit"
   ]
  },
  {
   "cell_type": "code",
   "execution_count": 7,
   "metadata": {},
   "outputs": [
    {
     "name": "stdout",
     "output_type": "stream",
     "text": [
      "The autoreload extension is already loaded. To reload it, use:\n",
      "  %reload_ext autoreload\n"
     ]
    }
   ],
   "source": [
    "import warnings\n",
    "warnings.filterwarnings('ignore')\n",
    "\n",
    "%load_ext autoreload\n",
    "%autoreload 2"
   ]
  },
  {
   "cell_type": "code",
   "execution_count": 8,
   "metadata": {},
   "outputs": [],
   "source": [
    "import os\n",
    "import sys\n",
    "sys.path.append('../')\n",
    "\n",
    "import pandas as pd\n",
    "pd.set_option('display.max_columns', 200)\n",
    "\n",
    "import src.generate_report as report_gen"
   ]
  },
  {
   "cell_type": "markdown",
   "metadata": {},
   "source": [
    "## Accessing the Fitbit Data"
   ]
  },
  {
   "cell_type": "code",
   "execution_count": 9,
   "metadata": {},
   "outputs": [],
   "source": [
    "import gather_keys_oauth2 as Oauth2\n",
    "import fitbit\n",
    "from datetime import datetime\n",
    "from src.settings import FITBIT_CLIENT_ID, FITBIT_CLIENT_SECRET"
   ]
  },
  {
   "cell_type": "markdown",
   "metadata": {},
   "source": [
    "### Setting Up the Server"
   ]
  },
  {
   "cell_type": "code",
   "execution_count": 10,
   "metadata": {},
   "outputs": [
    {
     "name": "stderr",
     "output_type": "stream",
     "text": [
      "[06/Aug/2022:17:54:44] ENGINE Listening for SIGTERM.\n",
      "[06/Aug/2022:17:54:44] ENGINE Listening for SIGHUP.\n",
      "[06/Aug/2022:17:54:44] ENGINE Listening for SIGUSR1.\n",
      "[06/Aug/2022:17:54:44] ENGINE Bus STARTING\n",
      "[06/Aug/2022:17:54:44] ENGINE Started monitor thread 'Autoreloader'.\n",
      "[06/Aug/2022:17:54:44] ENGINE Serving on http://127.0.0.1:8080\n",
      "[06/Aug/2022:17:54:44] ENGINE Bus STARTED\n"
     ]
    },
    {
     "name": "stdout",
     "output_type": "stream",
     "text": [
      "127.0.0.1 - - [06/Aug/2022:17:54:46] \"GET /?code=ff69134fec609e905c12a098f1b095fe6e9c731e&state=czZVJ8J7Z9TNio9hl8RJ0xEyf34usa HTTP/1.1\" 200 122 \"\" \"Mozilla/5.0 (Macintosh; Intel Mac OS X 10_15_7) AppleWebKit/605.1.15 (KHTML, like Gecko) Version/14.1.1 Safari/605.1.15\"\n"
     ]
    },
    {
     "name": "stderr",
     "output_type": "stream",
     "text": [
      "[06/Aug/2022:17:54:47] ENGINE Bus STOPPING\n",
      "[06/Aug/2022:17:54:47] ENGINE HTTP Server cherrypy._cpwsgi_server.CPWSGIServer(('127.0.0.1', 8080)) shut down\n",
      "[06/Aug/2022:17:54:47] ENGINE Stopped thread 'Autoreloader'.\n",
      "[06/Aug/2022:17:54:47] ENGINE Bus STOPPED\n",
      "[06/Aug/2022:17:54:47] ENGINE Bus EXITING\n",
      "[06/Aug/2022:17:54:47] ENGINE Bus EXITED\n",
      "[06/Aug/2022:17:54:47] ENGINE Waiting for child threads to terminate...\n"
     ]
    }
   ],
   "source": [
    "server=Oauth2.OAuth2Server(FITBIT_CLIENT_ID, FITBIT_CLIENT_SECRET)\n",
    "server.browser_authorize()\n",
    "ACCESS_TOKEN=str(server.fitbit.client.session.token['access_token'])\n",
    "REFRESH_TOKEN=str(server.fitbit.client.session.token['refresh_token'])\n",
    "auth2_client=fitbit.Fitbit(FITBIT_CLIENT_ID,FITBIT_CLIENT_SECRET,oauth2=True,access_token=ACCESS_TOKEN,refresh_token=REFRESH_TOKEN)"
   ]
  },
  {
   "cell_type": "markdown",
   "metadata": {},
   "source": [
    "### Pull Data"
   ]
  },
  {
   "cell_type": "code",
   "execution_count": 38,
   "metadata": {},
   "outputs": [],
   "source": [
    "def get_fb_data(y, m, d, resource):\n",
    "    \"\"\"\n",
    "    Gets the fb data as a DataFrame from the given day\n",
    "    \"\"\"\n",
    "    date = datetime(y, m, d)\n",
    "    try:\n",
    "        raw = auth2_client.intraday_time_series(f'activities/{resource}', date, detail_level='1sec')\n",
    "    except Exception as e:\n",
    "        print(e)\n",
    "        raw = auth2_client.intraday_time_series(f'activities/{resource}', date, detail_level='1min')\n",
    "\n",
    "    data =  pd.DataFrame(raw[f\"activities-{resource}-intraday\"][\"dataset\"])\n",
    "    ts = []\n",
    "    for t in data[\"time\"]:\n",
    "        t = pd.to_datetime(t)\n",
    "        ts.append(datetime(y,m,d,t.hour,t.minute,t.second))\n",
    "        \n",
    "    data[\"time\"] = ts\n",
    "    return data.set_index(\"time\")"
   ]
  },
  {
   "cell_type": "markdown",
   "metadata": {},
   "source": [
    "### Comparing Logged Jumps to Fitbit Floor Data\n",
    "Through a set of experiments, we can see if Fitbit data can be used to measure jumping. Can we find when people jump by looking at floors and elevation?"
   ]
  },
  {
   "cell_type": "markdown",
   "metadata": {},
   "source": [
    "#### Floors vs Elevation\n",
    "What is the relationship?\n"
   ]
  },
  {
   "cell_type": "code",
   "execution_count": 41,
   "metadata": {},
   "outputs": [
    {
     "name": "stdout",
     "output_type": "stream",
     "text": [
      "One second interval is not supported for selected data type\n",
      "One second interval is not supported for selected data type\n"
     ]
    },
    {
     "data": {
      "text/html": [
       "<div>\n",
       "<style scoped>\n",
       "    .dataframe tbody tr th:only-of-type {\n",
       "        vertical-align: middle;\n",
       "    }\n",
       "\n",
       "    .dataframe tbody tr th {\n",
       "        vertical-align: top;\n",
       "    }\n",
       "\n",
       "    .dataframe thead th {\n",
       "        text-align: right;\n",
       "    }\n",
       "</style>\n",
       "<table border=\"1\" class=\"dataframe\">\n",
       "  <thead>\n",
       "    <tr style=\"text-align: right;\">\n",
       "      <th></th>\n",
       "      <th>value_x</th>\n",
       "      <th>value_y</th>\n",
       "    </tr>\n",
       "    <tr>\n",
       "      <th>time</th>\n",
       "      <th></th>\n",
       "      <th></th>\n",
       "    </tr>\n",
       "  </thead>\n",
       "  <tbody>\n",
       "    <tr>\n",
       "      <th>2022-08-05 07:15:00</th>\n",
       "      <td>0</td>\n",
       "      <td>0</td>\n",
       "    </tr>\n",
       "    <tr>\n",
       "      <th>2022-08-05 07:16:00</th>\n",
       "      <td>0</td>\n",
       "      <td>0</td>\n",
       "    </tr>\n",
       "    <tr>\n",
       "      <th>2022-08-05 07:17:00</th>\n",
       "      <td>0</td>\n",
       "      <td>0</td>\n",
       "    </tr>\n",
       "    <tr>\n",
       "      <th>2022-08-05 07:18:00</th>\n",
       "      <td>10</td>\n",
       "      <td>1</td>\n",
       "    </tr>\n",
       "    <tr>\n",
       "      <th>2022-08-05 07:19:00</th>\n",
       "      <td>10</td>\n",
       "      <td>1</td>\n",
       "    </tr>\n",
       "    <tr>\n",
       "      <th>2022-08-05 07:20:00</th>\n",
       "      <td>0</td>\n",
       "      <td>0</td>\n",
       "    </tr>\n",
       "    <tr>\n",
       "      <th>2022-08-05 07:21:00</th>\n",
       "      <td>0</td>\n",
       "      <td>0</td>\n",
       "    </tr>\n",
       "    <tr>\n",
       "      <th>2022-08-05 07:22:00</th>\n",
       "      <td>10</td>\n",
       "      <td>1</td>\n",
       "    </tr>\n",
       "    <tr>\n",
       "      <th>2022-08-05 07:23:00</th>\n",
       "      <td>10</td>\n",
       "      <td>1</td>\n",
       "    </tr>\n",
       "    <tr>\n",
       "      <th>2022-08-05 07:24:00</th>\n",
       "      <td>0</td>\n",
       "      <td>0</td>\n",
       "    </tr>\n",
       "    <tr>\n",
       "      <th>2022-08-05 07:25:00</th>\n",
       "      <td>10</td>\n",
       "      <td>1</td>\n",
       "    </tr>\n",
       "    <tr>\n",
       "      <th>2022-08-05 07:26:00</th>\n",
       "      <td>10</td>\n",
       "      <td>1</td>\n",
       "    </tr>\n",
       "    <tr>\n",
       "      <th>2022-08-05 07:27:00</th>\n",
       "      <td>20</td>\n",
       "      <td>2</td>\n",
       "    </tr>\n",
       "    <tr>\n",
       "      <th>2022-08-05 07:28:00</th>\n",
       "      <td>20</td>\n",
       "      <td>2</td>\n",
       "    </tr>\n",
       "    <tr>\n",
       "      <th>2022-08-05 07:29:00</th>\n",
       "      <td>10</td>\n",
       "      <td>1</td>\n",
       "    </tr>\n",
       "    <tr>\n",
       "      <th>2022-08-05 07:30:00</th>\n",
       "      <td>0</td>\n",
       "      <td>0</td>\n",
       "    </tr>\n",
       "    <tr>\n",
       "      <th>2022-08-05 07:31:00</th>\n",
       "      <td>10</td>\n",
       "      <td>1</td>\n",
       "    </tr>\n",
       "    <tr>\n",
       "      <th>2022-08-05 07:32:00</th>\n",
       "      <td>10</td>\n",
       "      <td>1</td>\n",
       "    </tr>\n",
       "    <tr>\n",
       "      <th>2022-08-05 07:33:00</th>\n",
       "      <td>0</td>\n",
       "      <td>0</td>\n",
       "    </tr>\n",
       "    <tr>\n",
       "      <th>2022-08-05 07:34:00</th>\n",
       "      <td>0</td>\n",
       "      <td>0</td>\n",
       "    </tr>\n",
       "    <tr>\n",
       "      <th>2022-08-05 07:35:00</th>\n",
       "      <td>0</td>\n",
       "      <td>0</td>\n",
       "    </tr>\n",
       "    <tr>\n",
       "      <th>2022-08-05 07:36:00</th>\n",
       "      <td>0</td>\n",
       "      <td>0</td>\n",
       "    </tr>\n",
       "    <tr>\n",
       "      <th>2022-08-05 07:37:00</th>\n",
       "      <td>20</td>\n",
       "      <td>2</td>\n",
       "    </tr>\n",
       "    <tr>\n",
       "      <th>2022-08-05 07:38:00</th>\n",
       "      <td>10</td>\n",
       "      <td>1</td>\n",
       "    </tr>\n",
       "    <tr>\n",
       "      <th>2022-08-05 07:39:00</th>\n",
       "      <td>10</td>\n",
       "      <td>1</td>\n",
       "    </tr>\n",
       "    <tr>\n",
       "      <th>2022-08-05 07:40:00</th>\n",
       "      <td>20</td>\n",
       "      <td>2</td>\n",
       "    </tr>\n",
       "    <tr>\n",
       "      <th>2022-08-05 07:41:00</th>\n",
       "      <td>0</td>\n",
       "      <td>0</td>\n",
       "    </tr>\n",
       "    <tr>\n",
       "      <th>2022-08-05 07:42:00</th>\n",
       "      <td>30</td>\n",
       "      <td>3</td>\n",
       "    </tr>\n",
       "    <tr>\n",
       "      <th>2022-08-05 07:43:00</th>\n",
       "      <td>0</td>\n",
       "      <td>0</td>\n",
       "    </tr>\n",
       "    <tr>\n",
       "      <th>2022-08-05 07:44:00</th>\n",
       "      <td>0</td>\n",
       "      <td>0</td>\n",
       "    </tr>\n",
       "  </tbody>\n",
       "</table>\n",
       "</div>"
      ],
      "text/plain": [
       "                     value_x  value_y\n",
       "time                                 \n",
       "2022-08-05 07:15:00        0        0\n",
       "2022-08-05 07:16:00        0        0\n",
       "2022-08-05 07:17:00        0        0\n",
       "2022-08-05 07:18:00       10        1\n",
       "2022-08-05 07:19:00       10        1\n",
       "2022-08-05 07:20:00        0        0\n",
       "2022-08-05 07:21:00        0        0\n",
       "2022-08-05 07:22:00       10        1\n",
       "2022-08-05 07:23:00       10        1\n",
       "2022-08-05 07:24:00        0        0\n",
       "2022-08-05 07:25:00       10        1\n",
       "2022-08-05 07:26:00       10        1\n",
       "2022-08-05 07:27:00       20        2\n",
       "2022-08-05 07:28:00       20        2\n",
       "2022-08-05 07:29:00       10        1\n",
       "2022-08-05 07:30:00        0        0\n",
       "2022-08-05 07:31:00       10        1\n",
       "2022-08-05 07:32:00       10        1\n",
       "2022-08-05 07:33:00        0        0\n",
       "2022-08-05 07:34:00        0        0\n",
       "2022-08-05 07:35:00        0        0\n",
       "2022-08-05 07:36:00        0        0\n",
       "2022-08-05 07:37:00       20        2\n",
       "2022-08-05 07:38:00       10        1\n",
       "2022-08-05 07:39:00       10        1\n",
       "2022-08-05 07:40:00       20        2\n",
       "2022-08-05 07:41:00        0        0\n",
       "2022-08-05 07:42:00       30        3\n",
       "2022-08-05 07:43:00        0        0\n",
       "2022-08-05 07:44:00        0        0"
      ]
     },
     "execution_count": 41,
     "metadata": {},
     "output_type": "execute_result"
    }
   ],
   "source": [
    "temp_floors = get_fb_data(2022,8,5,\"floors\")\n",
    "temp_elevation = get_fb_data(2022,8,5,\"elevation\")\n",
    "floor_vs_elevation = temp_elevation[datetime(2022,8,5,7,15):][:30].merge(temp_floors[datetime(2022,8,5,7,15):][:30],left_index=True,right_index=True)\n",
    "floor_vs_elevation\n"
   ]
  },
  {
   "cell_type": "markdown",
   "metadata": {},
   "source": [
    "Seems that floors are just elevation divided by 10"
   ]
  },
  {
   "cell_type": "markdown",
   "metadata": {},
   "source": [
    "#### \"Point\" Jumps\n",
    "For lack of a better word, \"Point\" jumps refer to a single instance of one or two jumps conducting at the turn of the minute. Here is the log:\n",
    "\n",
    "| Time (Approximate) | Activity |\n",
    "| --- | --- |\n",
    "|17:32 | 1 Jump |\n",
    "|17:33 | Nothing |\n",
    "|17:34 | 2 Jump |\n",
    "|17:35 | Nothing |\n",
    "|17:36 | 2 Jump |\n",
    "|17:37 | Nothing |\n",
    "|17:38 | 1 Jump |\n"
   ]
  },
  {
   "cell_type": "code",
   "execution_count": 42,
   "metadata": {},
   "outputs": [
    {
     "name": "stdout",
     "output_type": "stream",
     "text": [
      "One second interval is not supported for selected data type\n"
     ]
    },
    {
     "data": {
      "text/html": [
       "<div>\n",
       "<style scoped>\n",
       "    .dataframe tbody tr th:only-of-type {\n",
       "        vertical-align: middle;\n",
       "    }\n",
       "\n",
       "    .dataframe tbody tr th {\n",
       "        vertical-align: top;\n",
       "    }\n",
       "\n",
       "    .dataframe thead th {\n",
       "        text-align: right;\n",
       "    }\n",
       "</style>\n",
       "<table border=\"1\" class=\"dataframe\">\n",
       "  <thead>\n",
       "    <tr style=\"text-align: right;\">\n",
       "      <th></th>\n",
       "      <th>value</th>\n",
       "      <th>jumps</th>\n",
       "    </tr>\n",
       "    <tr>\n",
       "      <th>time</th>\n",
       "      <th></th>\n",
       "      <th></th>\n",
       "    </tr>\n",
       "  </thead>\n",
       "  <tbody>\n",
       "    <tr>\n",
       "      <th>2022-08-06 17:30:00</th>\n",
       "      <td>0</td>\n",
       "      <td>0</td>\n",
       "    </tr>\n",
       "    <tr>\n",
       "      <th>2022-08-06 17:31:00</th>\n",
       "      <td>1</td>\n",
       "      <td>0</td>\n",
       "    </tr>\n",
       "    <tr>\n",
       "      <th>2022-08-06 17:32:00</th>\n",
       "      <td>0</td>\n",
       "      <td>1</td>\n",
       "    </tr>\n",
       "    <tr>\n",
       "      <th>2022-08-06 17:33:00</th>\n",
       "      <td>0</td>\n",
       "      <td>0</td>\n",
       "    </tr>\n",
       "    <tr>\n",
       "      <th>2022-08-06 17:34:00</th>\n",
       "      <td>0</td>\n",
       "      <td>2</td>\n",
       "    </tr>\n",
       "    <tr>\n",
       "      <th>2022-08-06 17:35:00</th>\n",
       "      <td>0</td>\n",
       "      <td>0</td>\n",
       "    </tr>\n",
       "    <tr>\n",
       "      <th>2022-08-06 17:36:00</th>\n",
       "      <td>0</td>\n",
       "      <td>2</td>\n",
       "    </tr>\n",
       "    <tr>\n",
       "      <th>2022-08-06 17:37:00</th>\n",
       "      <td>0</td>\n",
       "      <td>0</td>\n",
       "    </tr>\n",
       "    <tr>\n",
       "      <th>2022-08-06 17:38:00</th>\n",
       "      <td>0</td>\n",
       "      <td>1</td>\n",
       "    </tr>\n",
       "    <tr>\n",
       "      <th>2022-08-06 17:39:00</th>\n",
       "      <td>0</td>\n",
       "      <td>0</td>\n",
       "    </tr>\n",
       "    <tr>\n",
       "      <th>2022-08-06 17:40:00</th>\n",
       "      <td>0</td>\n",
       "      <td>0</td>\n",
       "    </tr>\n",
       "  </tbody>\n",
       "</table>\n",
       "</div>"
      ],
      "text/plain": [
       "                     value  jumps\n",
       "time                             \n",
       "2022-08-06 17:30:00      0      0\n",
       "2022-08-06 17:31:00      1      0\n",
       "2022-08-06 17:32:00      0      1\n",
       "2022-08-06 17:33:00      0      0\n",
       "2022-08-06 17:34:00      0      2\n",
       "2022-08-06 17:35:00      0      0\n",
       "2022-08-06 17:36:00      0      2\n",
       "2022-08-06 17:37:00      0      0\n",
       "2022-08-06 17:38:00      0      1\n",
       "2022-08-06 17:39:00      0      0\n",
       "2022-08-06 17:40:00      0      0"
      ]
     },
     "execution_count": 42,
     "metadata": {},
     "output_type": "execute_result"
    }
   ],
   "source": [
    "jump_data = get_fb_data(2022,8,6,\"floors\")\n",
    "point_jump_data = jump_data[datetime(2022,8,6,17,30):datetime(2022,8,6,17,40)]\n",
    "point_jump_data[\"jumps\"] = [0,0,1,0,2,0,2,0,1,0,0]\n",
    "point_jump_data"
   ]
  },
  {
   "cell_type": "markdown",
   "metadata": {},
   "source": [
    "We don't seem to capture the jumps although perhaps some more experimens will lend a better view."
   ]
  },
  {
   "cell_type": "markdown",
   "metadata": {},
   "source": [
    "---"
   ]
  }
 ],
 "metadata": {
  "kernelspec": {
   "display_name": "Python 3.8.8 ('base')",
   "language": "python",
   "name": "python3"
  },
  "language_info": {
   "codemirror_mode": {
    "name": "ipython",
    "version": 3
   },
   "file_extension": ".py",
   "mimetype": "text/x-python",
   "name": "python",
   "nbconvert_exporter": "python",
   "pygments_lexer": "ipython3",
   "version": "3.8.8"
  },
  "orig_nbformat": 4,
  "vscode": {
   "interpreter": {
    "hash": "4fc815e1b9a3cf0de540f3f398564ef27b1d50bd94ee39821f4df0deea31ba38"
   }
  }
 },
 "nbformat": 4,
 "nbformat_minor": 2
}
